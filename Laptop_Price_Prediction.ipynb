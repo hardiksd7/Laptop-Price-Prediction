{
 "cells": [
  {
   "cell_type": "code",
   "execution_count": 89,
   "id": "ea9f7544",
   "metadata": {},
   "outputs": [],
   "source": [
    "import pandas as pd"
   ]
  },
  {
   "cell_type": "code",
   "execution_count": 90,
   "id": "91115a14",
   "metadata": {},
   "outputs": [],
   "source": [
    "df = pd.read_csv(\"laptop_price_prediction.zip\")"
   ]
  },
  {
   "cell_type": "code",
   "execution_count": 91,
   "id": "5e6f4227",
   "metadata": {},
   "outputs": [
    {
     "data": {
      "text/plain": [
       "(1275, 23)"
      ]
     },
     "execution_count": 91,
     "metadata": {},
     "output_type": "execute_result"
    }
   ],
   "source": [
    "df.shape"
   ]
  },
  {
   "cell_type": "code",
   "execution_count": 92,
   "id": "0d2f1393",
   "metadata": {},
   "outputs": [
    {
     "name": "stdout",
     "output_type": "stream",
     "text": [
      "<class 'pandas.core.frame.DataFrame'>\n",
      "RangeIndex: 1275 entries, 0 to 1274\n",
      "Data columns (total 23 columns):\n",
      " #   Column                Non-Null Count  Dtype  \n",
      "---  ------                --------------  -----  \n",
      " 0   Company               1275 non-null   object \n",
      " 1   Product               1275 non-null   object \n",
      " 2   TypeName              1275 non-null   object \n",
      " 3   Inches                1275 non-null   float64\n",
      " 4   Ram                   1275 non-null   int64  \n",
      " 5   OS                    1275 non-null   object \n",
      " 6   Weight                1275 non-null   float64\n",
      " 7   Price_euros           1275 non-null   float64\n",
      " 8   Screen                1275 non-null   object \n",
      " 9   ScreenW               1275 non-null   int64  \n",
      " 10  ScreenH               1275 non-null   int64  \n",
      " 11  Touchscreen           1275 non-null   object \n",
      " 12  IPSpanel              1275 non-null   object \n",
      " 13  RetinaDisplay         1275 non-null   object \n",
      " 14  CPU_company           1275 non-null   object \n",
      " 15  CPU_freq              1275 non-null   float64\n",
      " 16  CPU_model             1275 non-null   object \n",
      " 17  PrimaryStorage        1275 non-null   int64  \n",
      " 18  SecondaryStorage      1275 non-null   int64  \n",
      " 19  PrimaryStorageType    1275 non-null   object \n",
      " 20  SecondaryStorageType  1275 non-null   object \n",
      " 21  GPU_company           1275 non-null   object \n",
      " 22  GPU_model             1275 non-null   object \n",
      "dtypes: float64(4), int64(5), object(14)\n",
      "memory usage: 229.2+ KB\n"
     ]
    }
   ],
   "source": [
    "df.info()"
   ]
  },
  {
   "cell_type": "code",
   "execution_count": 93,
   "id": "f2fbbe4a",
   "metadata": {},
   "outputs": [
    {
     "data": {
      "text/plain": [
       "618"
      ]
     },
     "execution_count": 93,
     "metadata": {},
     "output_type": "execute_result"
    }
   ],
   "source": [
    "df['Product'].nunique()\n",
    "#Therefore it is the id type column"
   ]
  },
  {
   "cell_type": "markdown",
   "id": "57d114fd",
   "metadata": {},
   "source": [
    "# Target hai Priceineuros"
   ]
  },
  {
   "cell_type": "code",
   "execution_count": 94,
   "id": "ec7543ef",
   "metadata": {},
   "outputs": [],
   "source": [
    "df['Total_Storage'] = df['PrimaryStorage']+df['SecondaryStorage']"
   ]
  },
  {
   "cell_type": "code",
   "execution_count": 95,
   "id": "404244f2",
   "metadata": {},
   "outputs": [
    {
     "data": {
      "text/plain": [
       "array(['SSD', 'Flash Storage', 'HDD', 'Hybrid'], dtype=object)"
      ]
     },
     "execution_count": 95,
     "metadata": {},
     "output_type": "execute_result"
    }
   ],
   "source": [
    "df['PrimaryStorageType'].unique()"
   ]
  },
  {
   "cell_type": "code",
   "execution_count": 96,
   "id": "5714bf26",
   "metadata": {},
   "outputs": [
    {
     "data": {
      "text/html": [
       "<div>\n",
       "<style scoped>\n",
       "    .dataframe tbody tr th:only-of-type {\n",
       "        vertical-align: middle;\n",
       "    }\n",
       "\n",
       "    .dataframe tbody tr th {\n",
       "        vertical-align: top;\n",
       "    }\n",
       "\n",
       "    .dataframe thead th {\n",
       "        text-align: right;\n",
       "    }\n",
       "</style>\n",
       "<table border=\"1\" class=\"dataframe\">\n",
       "  <thead>\n",
       "    <tr style=\"text-align: right;\">\n",
       "      <th></th>\n",
       "      <th>Company</th>\n",
       "      <th>Product</th>\n",
       "      <th>TypeName</th>\n",
       "      <th>Inches</th>\n",
       "      <th>Ram</th>\n",
       "      <th>OS</th>\n",
       "      <th>Weight</th>\n",
       "      <th>Price_euros</th>\n",
       "      <th>Screen</th>\n",
       "      <th>ScreenW</th>\n",
       "      <th>...</th>\n",
       "      <th>CPU_company</th>\n",
       "      <th>CPU_freq</th>\n",
       "      <th>CPU_model</th>\n",
       "      <th>PrimaryStorage</th>\n",
       "      <th>SecondaryStorage</th>\n",
       "      <th>PrimaryStorageType</th>\n",
       "      <th>SecondaryStorageType</th>\n",
       "      <th>GPU_company</th>\n",
       "      <th>GPU_model</th>\n",
       "      <th>Total_Storage</th>\n",
       "    </tr>\n",
       "  </thead>\n",
       "  <tbody>\n",
       "    <tr>\n",
       "      <th>0</th>\n",
       "      <td>Apple</td>\n",
       "      <td>MacBook Pro</td>\n",
       "      <td>Ultrabook</td>\n",
       "      <td>13.3</td>\n",
       "      <td>8</td>\n",
       "      <td>macOS</td>\n",
       "      <td>1.37</td>\n",
       "      <td>1339.69</td>\n",
       "      <td>Standard</td>\n",
       "      <td>2560</td>\n",
       "      <td>...</td>\n",
       "      <td>Intel</td>\n",
       "      <td>2.3</td>\n",
       "      <td>Core i5</td>\n",
       "      <td>128</td>\n",
       "      <td>0</td>\n",
       "      <td>SSD</td>\n",
       "      <td>No</td>\n",
       "      <td>Intel</td>\n",
       "      <td>Iris Plus Graphics 640</td>\n",
       "      <td>128</td>\n",
       "    </tr>\n",
       "    <tr>\n",
       "      <th>1</th>\n",
       "      <td>Apple</td>\n",
       "      <td>Macbook Air</td>\n",
       "      <td>Ultrabook</td>\n",
       "      <td>13.3</td>\n",
       "      <td>8</td>\n",
       "      <td>macOS</td>\n",
       "      <td>1.34</td>\n",
       "      <td>898.94</td>\n",
       "      <td>Standard</td>\n",
       "      <td>1440</td>\n",
       "      <td>...</td>\n",
       "      <td>Intel</td>\n",
       "      <td>1.8</td>\n",
       "      <td>Core i5</td>\n",
       "      <td>128</td>\n",
       "      <td>0</td>\n",
       "      <td>Flash Storage</td>\n",
       "      <td>No</td>\n",
       "      <td>Intel</td>\n",
       "      <td>HD Graphics 6000</td>\n",
       "      <td>128</td>\n",
       "    </tr>\n",
       "  </tbody>\n",
       "</table>\n",
       "<p>2 rows × 24 columns</p>\n",
       "</div>"
      ],
      "text/plain": [
       "  Company      Product   TypeName  Inches  Ram     OS  Weight  Price_euros  \\\n",
       "0   Apple  MacBook Pro  Ultrabook    13.3    8  macOS    1.37      1339.69   \n",
       "1   Apple  Macbook Air  Ultrabook    13.3    8  macOS    1.34       898.94   \n",
       "\n",
       "     Screen  ScreenW  ...  CPU_company CPU_freq CPU_model PrimaryStorage  \\\n",
       "0  Standard     2560  ...        Intel      2.3   Core i5            128   \n",
       "1  Standard     1440  ...        Intel      1.8   Core i5            128   \n",
       "\n",
       "  SecondaryStorage  PrimaryStorageType SecondaryStorageType  GPU_company  \\\n",
       "0                0                 SSD                   No        Intel   \n",
       "1                0       Flash Storage                   No        Intel   \n",
       "\n",
       "                GPU_model Total_Storage  \n",
       "0  Iris Plus Graphics 640           128  \n",
       "1        HD Graphics 6000           128  \n",
       "\n",
       "[2 rows x 24 columns]"
      ]
     },
     "execution_count": 96,
     "metadata": {},
     "output_type": "execute_result"
    }
   ],
   "source": [
    "df.head(2)"
   ]
  },
  {
   "cell_type": "code",
   "execution_count": 97,
   "id": "191290c1",
   "metadata": {},
   "outputs": [],
   "source": [
    "droped_col = ['Product','PrimaryStorage','SecondaryStorage','ScreenW','ScreenH']\n",
    "df.drop(droped_col, axis=1,inplace= True)"
   ]
  },
  {
   "cell_type": "code",
   "execution_count": 98,
   "id": "86a0a7cb",
   "metadata": {},
   "outputs": [
    {
     "data": {
      "text/html": [
       "<div>\n",
       "<style scoped>\n",
       "    .dataframe tbody tr th:only-of-type {\n",
       "        vertical-align: middle;\n",
       "    }\n",
       "\n",
       "    .dataframe tbody tr th {\n",
       "        vertical-align: top;\n",
       "    }\n",
       "\n",
       "    .dataframe thead th {\n",
       "        text-align: right;\n",
       "    }\n",
       "</style>\n",
       "<table border=\"1\" class=\"dataframe\">\n",
       "  <thead>\n",
       "    <tr style=\"text-align: right;\">\n",
       "      <th></th>\n",
       "      <th>Company</th>\n",
       "      <th>TypeName</th>\n",
       "      <th>Inches</th>\n",
       "      <th>Ram</th>\n",
       "      <th>OS</th>\n",
       "      <th>Weight</th>\n",
       "      <th>Price_euros</th>\n",
       "      <th>Screen</th>\n",
       "      <th>Touchscreen</th>\n",
       "      <th>IPSpanel</th>\n",
       "      <th>RetinaDisplay</th>\n",
       "      <th>CPU_company</th>\n",
       "      <th>CPU_freq</th>\n",
       "      <th>CPU_model</th>\n",
       "      <th>PrimaryStorageType</th>\n",
       "      <th>SecondaryStorageType</th>\n",
       "      <th>GPU_company</th>\n",
       "      <th>GPU_model</th>\n",
       "      <th>Total_Storage</th>\n",
       "    </tr>\n",
       "  </thead>\n",
       "  <tbody>\n",
       "    <tr>\n",
       "      <th>0</th>\n",
       "      <td>Apple</td>\n",
       "      <td>Ultrabook</td>\n",
       "      <td>13.3</td>\n",
       "      <td>8</td>\n",
       "      <td>macOS</td>\n",
       "      <td>1.37</td>\n",
       "      <td>1339.69</td>\n",
       "      <td>Standard</td>\n",
       "      <td>No</td>\n",
       "      <td>Yes</td>\n",
       "      <td>Yes</td>\n",
       "      <td>Intel</td>\n",
       "      <td>2.3</td>\n",
       "      <td>Core i5</td>\n",
       "      <td>SSD</td>\n",
       "      <td>No</td>\n",
       "      <td>Intel</td>\n",
       "      <td>Iris Plus Graphics 640</td>\n",
       "      <td>128</td>\n",
       "    </tr>\n",
       "    <tr>\n",
       "      <th>1</th>\n",
       "      <td>Apple</td>\n",
       "      <td>Ultrabook</td>\n",
       "      <td>13.3</td>\n",
       "      <td>8</td>\n",
       "      <td>macOS</td>\n",
       "      <td>1.34</td>\n",
       "      <td>898.94</td>\n",
       "      <td>Standard</td>\n",
       "      <td>No</td>\n",
       "      <td>No</td>\n",
       "      <td>No</td>\n",
       "      <td>Intel</td>\n",
       "      <td>1.8</td>\n",
       "      <td>Core i5</td>\n",
       "      <td>Flash Storage</td>\n",
       "      <td>No</td>\n",
       "      <td>Intel</td>\n",
       "      <td>HD Graphics 6000</td>\n",
       "      <td>128</td>\n",
       "    </tr>\n",
       "    <tr>\n",
       "      <th>2</th>\n",
       "      <td>HP</td>\n",
       "      <td>Notebook</td>\n",
       "      <td>15.6</td>\n",
       "      <td>8</td>\n",
       "      <td>No OS</td>\n",
       "      <td>1.86</td>\n",
       "      <td>575.00</td>\n",
       "      <td>Full HD</td>\n",
       "      <td>No</td>\n",
       "      <td>No</td>\n",
       "      <td>No</td>\n",
       "      <td>Intel</td>\n",
       "      <td>2.5</td>\n",
       "      <td>Core i5 7200U</td>\n",
       "      <td>SSD</td>\n",
       "      <td>No</td>\n",
       "      <td>Intel</td>\n",
       "      <td>HD Graphics 620</td>\n",
       "      <td>256</td>\n",
       "    </tr>\n",
       "    <tr>\n",
       "      <th>3</th>\n",
       "      <td>Apple</td>\n",
       "      <td>Ultrabook</td>\n",
       "      <td>15.4</td>\n",
       "      <td>16</td>\n",
       "      <td>macOS</td>\n",
       "      <td>1.83</td>\n",
       "      <td>2537.45</td>\n",
       "      <td>Standard</td>\n",
       "      <td>No</td>\n",
       "      <td>Yes</td>\n",
       "      <td>Yes</td>\n",
       "      <td>Intel</td>\n",
       "      <td>2.7</td>\n",
       "      <td>Core i7</td>\n",
       "      <td>SSD</td>\n",
       "      <td>No</td>\n",
       "      <td>AMD</td>\n",
       "      <td>Radeon Pro 455</td>\n",
       "      <td>512</td>\n",
       "    </tr>\n",
       "    <tr>\n",
       "      <th>4</th>\n",
       "      <td>Apple</td>\n",
       "      <td>Ultrabook</td>\n",
       "      <td>13.3</td>\n",
       "      <td>8</td>\n",
       "      <td>macOS</td>\n",
       "      <td>1.37</td>\n",
       "      <td>1803.60</td>\n",
       "      <td>Standard</td>\n",
       "      <td>No</td>\n",
       "      <td>Yes</td>\n",
       "      <td>Yes</td>\n",
       "      <td>Intel</td>\n",
       "      <td>3.1</td>\n",
       "      <td>Core i5</td>\n",
       "      <td>SSD</td>\n",
       "      <td>No</td>\n",
       "      <td>Intel</td>\n",
       "      <td>Iris Plus Graphics 650</td>\n",
       "      <td>256</td>\n",
       "    </tr>\n",
       "  </tbody>\n",
       "</table>\n",
       "</div>"
      ],
      "text/plain": [
       "  Company   TypeName  Inches  Ram     OS  Weight  Price_euros    Screen  \\\n",
       "0   Apple  Ultrabook    13.3    8  macOS    1.37      1339.69  Standard   \n",
       "1   Apple  Ultrabook    13.3    8  macOS    1.34       898.94  Standard   \n",
       "2      HP   Notebook    15.6    8  No OS    1.86       575.00   Full HD   \n",
       "3   Apple  Ultrabook    15.4   16  macOS    1.83      2537.45  Standard   \n",
       "4   Apple  Ultrabook    13.3    8  macOS    1.37      1803.60  Standard   \n",
       "\n",
       "  Touchscreen IPSpanel RetinaDisplay CPU_company  CPU_freq      CPU_model  \\\n",
       "0          No      Yes           Yes       Intel       2.3        Core i5   \n",
       "1          No       No            No       Intel       1.8        Core i5   \n",
       "2          No       No            No       Intel       2.5  Core i5 7200U   \n",
       "3          No      Yes           Yes       Intel       2.7        Core i7   \n",
       "4          No      Yes           Yes       Intel       3.1        Core i5   \n",
       "\n",
       "  PrimaryStorageType SecondaryStorageType GPU_company               GPU_model  \\\n",
       "0                SSD                   No       Intel  Iris Plus Graphics 640   \n",
       "1      Flash Storage                   No       Intel        HD Graphics 6000   \n",
       "2                SSD                   No       Intel         HD Graphics 620   \n",
       "3                SSD                   No         AMD          Radeon Pro 455   \n",
       "4                SSD                   No       Intel  Iris Plus Graphics 650   \n",
       "\n",
       "   Total_Storage  \n",
       "0            128  \n",
       "1            128  \n",
       "2            256  \n",
       "3            512  \n",
       "4            256  "
      ]
     },
     "execution_count": 98,
     "metadata": {},
     "output_type": "execute_result"
    }
   ],
   "source": [
    "df.head()"
   ]
  },
  {
   "cell_type": "code",
   "execution_count": 99,
   "id": "4b2d931c",
   "metadata": {},
   "outputs": [
    {
     "data": {
      "text/plain": [
       "array(['SSD', 'Flash Storage', 'HDD', 'Hybrid'], dtype=object)"
      ]
     },
     "execution_count": 99,
     "metadata": {},
     "output_type": "execute_result"
    }
   ],
   "source": [
    "df['PrimaryStorageType'].unique()"
   ]
  },
  {
   "cell_type": "code",
   "execution_count": 100,
   "id": "1dc908ca",
   "metadata": {},
   "outputs": [],
   "source": [
    "#Label Encode\n",
    "label_map = {'Screen':{'Standard':0, 'Full HD':1, 'Quad HD+':2, '4K Ultra HD':3},\n",
    "            'PrimaryStorageType':{'SSD':2, 'Flash Storage':3, 'HDD':0, 'Hybrid':1}}"
   ]
  },
  {
   "cell_type": "code",
   "execution_count": 101,
   "id": "aa5cbef5",
   "metadata": {},
   "outputs": [],
   "source": [
    "df.replace(label_map,inplace=True)"
   ]
  },
  {
   "cell_type": "code",
   "execution_count": 102,
   "id": "e8bc89c0",
   "metadata": {},
   "outputs": [
    {
     "data": {
      "text/plain": [
       "Inches               -0.438622\n",
       "Ram                   2.698716\n",
       "Weight                1.150804\n",
       "Price_euros           1.511147\n",
       "Screen                0.982464\n",
       "CPU_freq             -0.838246\n",
       "PrimaryStorageType   -0.724433\n",
       "Total_Storage         1.057374\n",
       "dtype: float64"
      ]
     },
     "execution_count": 102,
     "metadata": {},
     "output_type": "execute_result"
    }
   ],
   "source": [
    "df.select_dtypes(exclude='object').skew()"
   ]
  },
  {
   "cell_type": "code",
   "execution_count": 112,
   "id": "12df0b74",
   "metadata": {},
   "outputs": [],
   "source": [
    "df_ohe = pd.get_dummies(df)"
   ]
  },
  {
   "cell_type": "code",
   "execution_count": 113,
   "id": "e8ee340c",
   "metadata": {},
   "outputs": [
    {
     "data": {
      "text/plain": [
       "(1275, 262)"
      ]
     },
     "execution_count": 113,
     "metadata": {},
     "output_type": "execute_result"
    }
   ],
   "source": [
    "df_ohe.shape"
   ]
  },
  {
   "cell_type": "code",
   "execution_count": 114,
   "id": "bdc340e8",
   "metadata": {},
   "outputs": [
    {
     "data": {
      "text/html": [
       "<div>\n",
       "<style scoped>\n",
       "    .dataframe tbody tr th:only-of-type {\n",
       "        vertical-align: middle;\n",
       "    }\n",
       "\n",
       "    .dataframe tbody tr th {\n",
       "        vertical-align: top;\n",
       "    }\n",
       "\n",
       "    .dataframe thead th {\n",
       "        text-align: right;\n",
       "    }\n",
       "</style>\n",
       "<table border=\"1\" class=\"dataframe\">\n",
       "  <thead>\n",
       "    <tr style=\"text-align: right;\">\n",
       "      <th></th>\n",
       "      <th>Inches</th>\n",
       "      <th>Ram</th>\n",
       "      <th>Weight</th>\n",
       "      <th>Price_euros</th>\n",
       "      <th>Screen</th>\n",
       "      <th>CPU_freq</th>\n",
       "      <th>PrimaryStorageType</th>\n",
       "      <th>Total_Storage</th>\n",
       "      <th>Company_Acer</th>\n",
       "      <th>Company_Apple</th>\n",
       "      <th>...</th>\n",
       "      <th>GPU_model_Radeon R7 M440</th>\n",
       "      <th>GPU_model_Radeon R7 M445</th>\n",
       "      <th>GPU_model_Radeon R7 M460</th>\n",
       "      <th>GPU_model_Radeon R7 M465</th>\n",
       "      <th>GPU_model_Radeon R9 M385</th>\n",
       "      <th>GPU_model_Radeon RX 540</th>\n",
       "      <th>GPU_model_Radeon RX 550</th>\n",
       "      <th>GPU_model_Radeon RX 560</th>\n",
       "      <th>GPU_model_Radeon RX 580</th>\n",
       "      <th>GPU_model_UHD Graphics 620</th>\n",
       "    </tr>\n",
       "  </thead>\n",
       "  <tbody>\n",
       "    <tr>\n",
       "      <th>0</th>\n",
       "      <td>13.3</td>\n",
       "      <td>8</td>\n",
       "      <td>1.37</td>\n",
       "      <td>1339.69</td>\n",
       "      <td>0</td>\n",
       "      <td>2.3</td>\n",
       "      <td>2</td>\n",
       "      <td>128</td>\n",
       "      <td>False</td>\n",
       "      <td>True</td>\n",
       "      <td>...</td>\n",
       "      <td>False</td>\n",
       "      <td>False</td>\n",
       "      <td>False</td>\n",
       "      <td>False</td>\n",
       "      <td>False</td>\n",
       "      <td>False</td>\n",
       "      <td>False</td>\n",
       "      <td>False</td>\n",
       "      <td>False</td>\n",
       "      <td>False</td>\n",
       "    </tr>\n",
       "    <tr>\n",
       "      <th>1</th>\n",
       "      <td>13.3</td>\n",
       "      <td>8</td>\n",
       "      <td>1.34</td>\n",
       "      <td>898.94</td>\n",
       "      <td>0</td>\n",
       "      <td>1.8</td>\n",
       "      <td>3</td>\n",
       "      <td>128</td>\n",
       "      <td>False</td>\n",
       "      <td>True</td>\n",
       "      <td>...</td>\n",
       "      <td>False</td>\n",
       "      <td>False</td>\n",
       "      <td>False</td>\n",
       "      <td>False</td>\n",
       "      <td>False</td>\n",
       "      <td>False</td>\n",
       "      <td>False</td>\n",
       "      <td>False</td>\n",
       "      <td>False</td>\n",
       "      <td>False</td>\n",
       "    </tr>\n",
       "    <tr>\n",
       "      <th>2</th>\n",
       "      <td>15.6</td>\n",
       "      <td>8</td>\n",
       "      <td>1.86</td>\n",
       "      <td>575.00</td>\n",
       "      <td>1</td>\n",
       "      <td>2.5</td>\n",
       "      <td>2</td>\n",
       "      <td>256</td>\n",
       "      <td>False</td>\n",
       "      <td>False</td>\n",
       "      <td>...</td>\n",
       "      <td>False</td>\n",
       "      <td>False</td>\n",
       "      <td>False</td>\n",
       "      <td>False</td>\n",
       "      <td>False</td>\n",
       "      <td>False</td>\n",
       "      <td>False</td>\n",
       "      <td>False</td>\n",
       "      <td>False</td>\n",
       "      <td>False</td>\n",
       "    </tr>\n",
       "    <tr>\n",
       "      <th>3</th>\n",
       "      <td>15.4</td>\n",
       "      <td>16</td>\n",
       "      <td>1.83</td>\n",
       "      <td>2537.45</td>\n",
       "      <td>0</td>\n",
       "      <td>2.7</td>\n",
       "      <td>2</td>\n",
       "      <td>512</td>\n",
       "      <td>False</td>\n",
       "      <td>True</td>\n",
       "      <td>...</td>\n",
       "      <td>False</td>\n",
       "      <td>False</td>\n",
       "      <td>False</td>\n",
       "      <td>False</td>\n",
       "      <td>False</td>\n",
       "      <td>False</td>\n",
       "      <td>False</td>\n",
       "      <td>False</td>\n",
       "      <td>False</td>\n",
       "      <td>False</td>\n",
       "    </tr>\n",
       "    <tr>\n",
       "      <th>4</th>\n",
       "      <td>13.3</td>\n",
       "      <td>8</td>\n",
       "      <td>1.37</td>\n",
       "      <td>1803.60</td>\n",
       "      <td>0</td>\n",
       "      <td>3.1</td>\n",
       "      <td>2</td>\n",
       "      <td>256</td>\n",
       "      <td>False</td>\n",
       "      <td>True</td>\n",
       "      <td>...</td>\n",
       "      <td>False</td>\n",
       "      <td>False</td>\n",
       "      <td>False</td>\n",
       "      <td>False</td>\n",
       "      <td>False</td>\n",
       "      <td>False</td>\n",
       "      <td>False</td>\n",
       "      <td>False</td>\n",
       "      <td>False</td>\n",
       "      <td>False</td>\n",
       "    </tr>\n",
       "    <tr>\n",
       "      <th>...</th>\n",
       "      <td>...</td>\n",
       "      <td>...</td>\n",
       "      <td>...</td>\n",
       "      <td>...</td>\n",
       "      <td>...</td>\n",
       "      <td>...</td>\n",
       "      <td>...</td>\n",
       "      <td>...</td>\n",
       "      <td>...</td>\n",
       "      <td>...</td>\n",
       "      <td>...</td>\n",
       "      <td>...</td>\n",
       "      <td>...</td>\n",
       "      <td>...</td>\n",
       "      <td>...</td>\n",
       "      <td>...</td>\n",
       "      <td>...</td>\n",
       "      <td>...</td>\n",
       "      <td>...</td>\n",
       "      <td>...</td>\n",
       "      <td>...</td>\n",
       "    </tr>\n",
       "    <tr>\n",
       "      <th>1270</th>\n",
       "      <td>14.0</td>\n",
       "      <td>4</td>\n",
       "      <td>1.80</td>\n",
       "      <td>638.00</td>\n",
       "      <td>1</td>\n",
       "      <td>2.5</td>\n",
       "      <td>2</td>\n",
       "      <td>128</td>\n",
       "      <td>False</td>\n",
       "      <td>False</td>\n",
       "      <td>...</td>\n",
       "      <td>False</td>\n",
       "      <td>False</td>\n",
       "      <td>False</td>\n",
       "      <td>False</td>\n",
       "      <td>False</td>\n",
       "      <td>False</td>\n",
       "      <td>False</td>\n",
       "      <td>False</td>\n",
       "      <td>False</td>\n",
       "      <td>False</td>\n",
       "    </tr>\n",
       "    <tr>\n",
       "      <th>1271</th>\n",
       "      <td>13.3</td>\n",
       "      <td>16</td>\n",
       "      <td>1.30</td>\n",
       "      <td>1499.00</td>\n",
       "      <td>2</td>\n",
       "      <td>2.5</td>\n",
       "      <td>2</td>\n",
       "      <td>512</td>\n",
       "      <td>False</td>\n",
       "      <td>False</td>\n",
       "      <td>...</td>\n",
       "      <td>False</td>\n",
       "      <td>False</td>\n",
       "      <td>False</td>\n",
       "      <td>False</td>\n",
       "      <td>False</td>\n",
       "      <td>False</td>\n",
       "      <td>False</td>\n",
       "      <td>False</td>\n",
       "      <td>False</td>\n",
       "      <td>False</td>\n",
       "    </tr>\n",
       "    <tr>\n",
       "      <th>1272</th>\n",
       "      <td>14.0</td>\n",
       "      <td>2</td>\n",
       "      <td>1.50</td>\n",
       "      <td>229.00</td>\n",
       "      <td>0</td>\n",
       "      <td>1.6</td>\n",
       "      <td>3</td>\n",
       "      <td>64</td>\n",
       "      <td>False</td>\n",
       "      <td>False</td>\n",
       "      <td>...</td>\n",
       "      <td>False</td>\n",
       "      <td>False</td>\n",
       "      <td>False</td>\n",
       "      <td>False</td>\n",
       "      <td>False</td>\n",
       "      <td>False</td>\n",
       "      <td>False</td>\n",
       "      <td>False</td>\n",
       "      <td>False</td>\n",
       "      <td>False</td>\n",
       "    </tr>\n",
       "    <tr>\n",
       "      <th>1273</th>\n",
       "      <td>15.6</td>\n",
       "      <td>6</td>\n",
       "      <td>2.19</td>\n",
       "      <td>764.00</td>\n",
       "      <td>0</td>\n",
       "      <td>2.5</td>\n",
       "      <td>0</td>\n",
       "      <td>1024</td>\n",
       "      <td>False</td>\n",
       "      <td>False</td>\n",
       "      <td>...</td>\n",
       "      <td>False</td>\n",
       "      <td>False</td>\n",
       "      <td>False</td>\n",
       "      <td>False</td>\n",
       "      <td>False</td>\n",
       "      <td>False</td>\n",
       "      <td>False</td>\n",
       "      <td>False</td>\n",
       "      <td>False</td>\n",
       "      <td>False</td>\n",
       "    </tr>\n",
       "    <tr>\n",
       "      <th>1274</th>\n",
       "      <td>15.6</td>\n",
       "      <td>4</td>\n",
       "      <td>2.20</td>\n",
       "      <td>369.00</td>\n",
       "      <td>0</td>\n",
       "      <td>1.6</td>\n",
       "      <td>0</td>\n",
       "      <td>500</td>\n",
       "      <td>False</td>\n",
       "      <td>False</td>\n",
       "      <td>...</td>\n",
       "      <td>False</td>\n",
       "      <td>False</td>\n",
       "      <td>False</td>\n",
       "      <td>False</td>\n",
       "      <td>False</td>\n",
       "      <td>False</td>\n",
       "      <td>False</td>\n",
       "      <td>False</td>\n",
       "      <td>False</td>\n",
       "      <td>False</td>\n",
       "    </tr>\n",
       "  </tbody>\n",
       "</table>\n",
       "<p>1275 rows × 262 columns</p>\n",
       "</div>"
      ],
      "text/plain": [
       "      Inches  Ram  Weight  Price_euros  Screen  CPU_freq  PrimaryStorageType  \\\n",
       "0       13.3    8    1.37      1339.69       0       2.3                   2   \n",
       "1       13.3    8    1.34       898.94       0       1.8                   3   \n",
       "2       15.6    8    1.86       575.00       1       2.5                   2   \n",
       "3       15.4   16    1.83      2537.45       0       2.7                   2   \n",
       "4       13.3    8    1.37      1803.60       0       3.1                   2   \n",
       "...      ...  ...     ...          ...     ...       ...                 ...   \n",
       "1270    14.0    4    1.80       638.00       1       2.5                   2   \n",
       "1271    13.3   16    1.30      1499.00       2       2.5                   2   \n",
       "1272    14.0    2    1.50       229.00       0       1.6                   3   \n",
       "1273    15.6    6    2.19       764.00       0       2.5                   0   \n",
       "1274    15.6    4    2.20       369.00       0       1.6                   0   \n",
       "\n",
       "      Total_Storage  Company_Acer  Company_Apple  ...  \\\n",
       "0               128         False           True  ...   \n",
       "1               128         False           True  ...   \n",
       "2               256         False          False  ...   \n",
       "3               512         False           True  ...   \n",
       "4               256         False           True  ...   \n",
       "...             ...           ...            ...  ...   \n",
       "1270            128         False          False  ...   \n",
       "1271            512         False          False  ...   \n",
       "1272             64         False          False  ...   \n",
       "1273           1024         False          False  ...   \n",
       "1274            500         False          False  ...   \n",
       "\n",
       "      GPU_model_Radeon R7 M440  GPU_model_Radeon R7 M445  \\\n",
       "0                        False                     False   \n",
       "1                        False                     False   \n",
       "2                        False                     False   \n",
       "3                        False                     False   \n",
       "4                        False                     False   \n",
       "...                        ...                       ...   \n",
       "1270                     False                     False   \n",
       "1271                     False                     False   \n",
       "1272                     False                     False   \n",
       "1273                     False                     False   \n",
       "1274                     False                     False   \n",
       "\n",
       "      GPU_model_Radeon R7 M460  GPU_model_Radeon R7 M465  \\\n",
       "0                        False                     False   \n",
       "1                        False                     False   \n",
       "2                        False                     False   \n",
       "3                        False                     False   \n",
       "4                        False                     False   \n",
       "...                        ...                       ...   \n",
       "1270                     False                     False   \n",
       "1271                     False                     False   \n",
       "1272                     False                     False   \n",
       "1273                     False                     False   \n",
       "1274                     False                     False   \n",
       "\n",
       "      GPU_model_Radeon R9 M385  GPU_model_Radeon RX 540  \\\n",
       "0                        False                    False   \n",
       "1                        False                    False   \n",
       "2                        False                    False   \n",
       "3                        False                    False   \n",
       "4                        False                    False   \n",
       "...                        ...                      ...   \n",
       "1270                     False                    False   \n",
       "1271                     False                    False   \n",
       "1272                     False                    False   \n",
       "1273                     False                    False   \n",
       "1274                     False                    False   \n",
       "\n",
       "      GPU_model_Radeon RX 550  GPU_model_Radeon RX 560  \\\n",
       "0                       False                    False   \n",
       "1                       False                    False   \n",
       "2                       False                    False   \n",
       "3                       False                    False   \n",
       "4                       False                    False   \n",
       "...                       ...                      ...   \n",
       "1270                    False                    False   \n",
       "1271                    False                    False   \n",
       "1272                    False                    False   \n",
       "1273                    False                    False   \n",
       "1274                    False                    False   \n",
       "\n",
       "      GPU_model_Radeon RX 580  GPU_model_UHD Graphics 620  \n",
       "0                       False                       False  \n",
       "1                       False                       False  \n",
       "2                       False                       False  \n",
       "3                       False                       False  \n",
       "4                       False                       False  \n",
       "...                       ...                         ...  \n",
       "1270                    False                       False  \n",
       "1271                    False                       False  \n",
       "1272                    False                       False  \n",
       "1273                    False                       False  \n",
       "1274                    False                       False  \n",
       "\n",
       "[1275 rows x 262 columns]"
      ]
     },
     "execution_count": 114,
     "metadata": {},
     "output_type": "execute_result"
    }
   ],
   "source": [
    "df_ohe"
   ]
  },
  {
   "cell_type": "code",
   "execution_count": 115,
   "id": "0d5a36ac",
   "metadata": {},
   "outputs": [],
   "source": [
    "#Split X & Y\n",
    "X = df_ohe.drop(['Price_euros'],axis=1)\n",
    "Y = df_ohe['Price_euros']"
   ]
  },
  {
   "cell_type": "code",
   "execution_count": 109,
   "id": "74e72414",
   "metadata": {},
   "outputs": [],
   "source": [
    "from sklearn.model_selection import train_test_split\n",
    "X_train,X_test,Y_train,Y_test = train_test_split(X,Y,test_size=0.3,random_state=7)"
   ]
  },
  {
   "cell_type": "code",
   "execution_count": 110,
   "id": "74b07c3e",
   "metadata": {},
   "outputs": [
    {
     "data": {
      "text/plain": [
       "((892, 261), (383, 261), (892,), (383,))"
      ]
     },
     "execution_count": 110,
     "metadata": {},
     "output_type": "execute_result"
    }
   ],
   "source": [
    "X_train.shape,X_test.shape,Y_train.shape,Y_test.shape"
   ]
  },
  {
   "cell_type": "code",
   "execution_count": 116,
   "id": "6e66f94e",
   "metadata": {},
   "outputs": [
    {
     "data": {
      "text/plain": [
       "(0.7727484028109833, 242.58795879123127, 120016.60843566056)"
      ]
     },
     "execution_count": 116,
     "metadata": {},
     "output_type": "execute_result"
    }
   ],
   "source": [
    "from sklearn.linear_model import LinearRegression,Lasso,Ridge\n",
    "\n",
    "lr = LinearRegression()\n",
    "lr.fit(X_train,Y_train)\n",
    "Y_pred = lr.predict(X_test)\n",
    "\n",
    "from sklearn.metrics import r2_score,mean_squared_error,mean_absolute_error\n",
    "\n",
    "r2_score(Y_test,Y_pred),mean_absolute_error(Y_test,Y_pred) , mean_squared_error(Y_test,Y_pred)\n",
    "# mean_squared_error is not good for regression"
   ]
  },
  {
   "cell_type": "markdown",
   "id": "26cdfc72",
   "metadata": {},
   "source": [
    "# Incase r2-score is negative\n",
    "\n",
    "- observe the coefficient of linear Regression :: mostly they will be very high / very low values (-ve/+ve),\n",
    "not close to zero.\n",
    "- One reason of this :: target column and input column are normalised"
   ]
  },
  {
   "cell_type": "markdown",
   "id": "cdb10514",
   "metadata": {},
   "source": [
    "# How to Normalise Target columns in regression\n",
    " - if target column is skewed :: use log transform\n",
    " \n",
    " - if not skewed then use standard scalar\n",
    " \n",
    " Y_sc = (Y-Y.mean())/Y.std()\n",
    " \n",
    " Y_sc.mean(),Y_sc.std()\n",
    " \n",
    " import numpy as np\n",
    " Y_log = np.log(Y)\n",
    " \n",
    " Y_log.min(),Y_log.max()"
   ]
  },
  {
   "cell_type": "code",
   "execution_count": 117,
   "id": "f6b45e77",
   "metadata": {},
   "outputs": [
    {
     "data": {
      "text/plain": [
       "(1138.0603655352481, 6099.0, 174.0)"
      ]
     },
     "execution_count": 117,
     "metadata": {},
     "output_type": "execute_result"
    }
   ],
   "source": [
    "Y_test.mean() , Y_test.max() , Y_test.min()"
   ]
  },
  {
   "cell_type": "code",
   "execution_count": 119,
   "id": "c4b641d5",
   "metadata": {},
   "outputs": [
    {
     "data": {
      "text/plain": [
       "(0.7387927158078047, 269.517226401842, 137949.3598074133)"
      ]
     },
     "execution_count": 119,
     "metadata": {},
     "output_type": "execute_result"
    }
   ],
   "source": [
    "ls = Lasso(alpha=10,random_state=7)\n",
    "ls.fit(X_train,Y_train)\n",
    "Y_pred = ls.predict(X_test)\n",
    "\n",
    "r2_score(Y_test,Y_pred),mean_absolute_error(Y_test,Y_pred) , mean_squared_error(Y_test,Y_pred)"
   ]
  },
  {
   "cell_type": "code",
   "execution_count": 122,
   "id": "c00bcdfb",
   "metadata": {},
   "outputs": [
    {
     "data": {
      "text/plain": [
       "(0.020797635094965905, 553.1157995593769, 517138.48554530734)"
      ]
     },
     "execution_count": 122,
     "metadata": {},
     "output_type": "execute_result"
    }
   ],
   "source": [
    "rd = Ridge(alpha=10000000,random_state=7)\n",
    "rd.fit(X_train,Y_train)\n",
    "Y_pred = rd.predict(X_test)\n",
    "\n",
    "r2_score(Y_test,Y_pred),mean_absolute_error(Y_test,Y_pred) , mean_squared_error(Y_test,Y_pred)"
   ]
  },
  {
   "cell_type": "code",
   "execution_count": null,
   "id": "a1d6f4b9",
   "metadata": {},
   "outputs": [],
   "source": []
  }
 ],
 "metadata": {
  "kernelspec": {
   "display_name": "Python 3 (ipykernel)",
   "language": "python",
   "name": "python3"
  },
  "language_info": {
   "codemirror_mode": {
    "name": "ipython",
    "version": 3
   },
   "file_extension": ".py",
   "mimetype": "text/x-python",
   "name": "python",
   "nbconvert_exporter": "python",
   "pygments_lexer": "ipython3",
   "version": "3.11.5"
  }
 },
 "nbformat": 4,
 "nbformat_minor": 5
}
